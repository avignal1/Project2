{
  "nbformat": 4,
  "nbformat_minor": 0,
  "metadata": {
    "colab": {
      "name": "Project2Colab.ipynb",
      "provenance": [],
      "collapsed_sections": []
    },
    "kernelspec": {
      "name": "python3",
      "display_name": "Python 3"
    }
  },
  "cells": [
    {
      "cell_type": "code",
      "metadata": {
        "id": "DzDaUogbv-GM"
      },
      "source": [
        "# Initial imports\n",
        "import pandas as pd\n",
        "from pathlib import Path\n",
        "from sklearn.preprocessing import OneHotEncoder, StandardScaler\n",
        "from sklearn.model_selection import train_test_split\n",
        "from sklearn.preprocessing import StandardScaler\n",
        "from tensorflow.keras.models import Sequential\n",
        "from tensorflow.keras.layers import Dense\n",
        "from sklearn.preprocessing import MinMaxScaler\n",
        "import matplotlib.pyplot as plt"
      ],
      "execution_count": 101,
      "outputs": []
    },
    {
      "cell_type": "code",
      "metadata": {
        "colab": {
          "base_uri": "https://localhost:8080/",
          "height": 496
        },
        "id": "grpmwNp3xnQQ",
        "outputId": "a33ce020-ede6-4d9b-d115-20ed3b2bcbc3"
      },
      "source": [
        "# Load the data into a DataFrame\n",
        "file_path = Path(\"data.csv\")\n",
        "data = pd.read_csv(file_path)\n",
        "data.head()\n"
      ],
      "execution_count": 102,
      "outputs": [
        {
          "output_type": "execute_result",
          "data": {
            "text/html": [
              "<div>\n",
              "<style scoped>\n",
              "    .dataframe tbody tr th:only-of-type {\n",
              "        vertical-align: middle;\n",
              "    }\n",
              "\n",
              "    .dataframe tbody tr th {\n",
              "        vertical-align: top;\n",
              "    }\n",
              "\n",
              "    .dataframe thead th {\n",
              "        text-align: right;\n",
              "    }\n",
              "</style>\n",
              "<table border=\"1\" class=\"dataframe\">\n",
              "  <thead>\n",
              "    <tr style=\"text-align: right;\">\n",
              "      <th></th>\n",
              "      <th>valence</th>\n",
              "      <th>year</th>\n",
              "      <th>acousticness</th>\n",
              "      <th>artists</th>\n",
              "      <th>danceability</th>\n",
              "      <th>duration_ms</th>\n",
              "      <th>energy</th>\n",
              "      <th>explicit</th>\n",
              "      <th>id</th>\n",
              "      <th>instrumentalness</th>\n",
              "      <th>key</th>\n",
              "      <th>liveness</th>\n",
              "      <th>loudness</th>\n",
              "      <th>mode</th>\n",
              "      <th>name</th>\n",
              "      <th>popularity</th>\n",
              "      <th>release_date</th>\n",
              "      <th>speechiness</th>\n",
              "      <th>tempo</th>\n",
              "    </tr>\n",
              "  </thead>\n",
              "  <tbody>\n",
              "    <tr>\n",
              "      <th>0</th>\n",
              "      <td>0.0594</td>\n",
              "      <td>1921</td>\n",
              "      <td>0.982</td>\n",
              "      <td>['Sergei Rachmaninoff', 'James Levine', 'Berli...</td>\n",
              "      <td>0.279</td>\n",
              "      <td>831667</td>\n",
              "      <td>0.211</td>\n",
              "      <td>0</td>\n",
              "      <td>4BJqT0PrAfrxzMOxytFOIz</td>\n",
              "      <td>0.878000</td>\n",
              "      <td>10</td>\n",
              "      <td>0.665</td>\n",
              "      <td>-20.096</td>\n",
              "      <td>1</td>\n",
              "      <td>Piano Concerto No. 3 in D Minor, Op. 30: III. ...</td>\n",
              "      <td>4</td>\n",
              "      <td>1921</td>\n",
              "      <td>0.0366</td>\n",
              "      <td>80.954</td>\n",
              "    </tr>\n",
              "    <tr>\n",
              "      <th>1</th>\n",
              "      <td>0.9630</td>\n",
              "      <td>1921</td>\n",
              "      <td>0.732</td>\n",
              "      <td>['Dennis Day']</td>\n",
              "      <td>0.819</td>\n",
              "      <td>180533</td>\n",
              "      <td>0.341</td>\n",
              "      <td>0</td>\n",
              "      <td>7xPhfUan2yNtyFG0cUWkt8</td>\n",
              "      <td>0.000000</td>\n",
              "      <td>7</td>\n",
              "      <td>0.160</td>\n",
              "      <td>-12.441</td>\n",
              "      <td>1</td>\n",
              "      <td>Clancy Lowered the Boom</td>\n",
              "      <td>5</td>\n",
              "      <td>1921</td>\n",
              "      <td>0.4150</td>\n",
              "      <td>60.936</td>\n",
              "    </tr>\n",
              "    <tr>\n",
              "      <th>2</th>\n",
              "      <td>0.0394</td>\n",
              "      <td>1921</td>\n",
              "      <td>0.961</td>\n",
              "      <td>['KHP Kridhamardawa Karaton Ngayogyakarta Hadi...</td>\n",
              "      <td>0.328</td>\n",
              "      <td>500062</td>\n",
              "      <td>0.166</td>\n",
              "      <td>0</td>\n",
              "      <td>1o6I8BglA6ylDMrIELygv1</td>\n",
              "      <td>0.913000</td>\n",
              "      <td>3</td>\n",
              "      <td>0.101</td>\n",
              "      <td>-14.850</td>\n",
              "      <td>1</td>\n",
              "      <td>Gati Bali</td>\n",
              "      <td>5</td>\n",
              "      <td>1921</td>\n",
              "      <td>0.0339</td>\n",
              "      <td>110.339</td>\n",
              "    </tr>\n",
              "    <tr>\n",
              "      <th>3</th>\n",
              "      <td>0.1650</td>\n",
              "      <td>1921</td>\n",
              "      <td>0.967</td>\n",
              "      <td>['Frank Parker']</td>\n",
              "      <td>0.275</td>\n",
              "      <td>210000</td>\n",
              "      <td>0.309</td>\n",
              "      <td>0</td>\n",
              "      <td>3ftBPsC5vPBKxYSee08FDH</td>\n",
              "      <td>0.000028</td>\n",
              "      <td>5</td>\n",
              "      <td>0.381</td>\n",
              "      <td>-9.316</td>\n",
              "      <td>1</td>\n",
              "      <td>Danny Boy</td>\n",
              "      <td>3</td>\n",
              "      <td>1921</td>\n",
              "      <td>0.0354</td>\n",
              "      <td>100.109</td>\n",
              "    </tr>\n",
              "    <tr>\n",
              "      <th>4</th>\n",
              "      <td>0.2530</td>\n",
              "      <td>1921</td>\n",
              "      <td>0.957</td>\n",
              "      <td>['Phil Regan']</td>\n",
              "      <td>0.418</td>\n",
              "      <td>166693</td>\n",
              "      <td>0.193</td>\n",
              "      <td>0</td>\n",
              "      <td>4d6HGyGT8e121BsdKmw9v6</td>\n",
              "      <td>0.000002</td>\n",
              "      <td>3</td>\n",
              "      <td>0.229</td>\n",
              "      <td>-10.096</td>\n",
              "      <td>1</td>\n",
              "      <td>When Irish Eyes Are Smiling</td>\n",
              "      <td>2</td>\n",
              "      <td>1921</td>\n",
              "      <td>0.0380</td>\n",
              "      <td>101.665</td>\n",
              "    </tr>\n",
              "  </tbody>\n",
              "</table>\n",
              "</div>"
            ],
            "text/plain": [
              "   valence  year  acousticness  ... release_date  speechiness    tempo\n",
              "0   0.0594  1921         0.982  ...         1921       0.0366   80.954\n",
              "1   0.9630  1921         0.732  ...         1921       0.4150   60.936\n",
              "2   0.0394  1921         0.961  ...         1921       0.0339  110.339\n",
              "3   0.1650  1921         0.967  ...         1921       0.0354  100.109\n",
              "4   0.2530  1921         0.957  ...         1921       0.0380  101.665\n",
              "\n",
              "[5 rows x 19 columns]"
            ]
          },
          "metadata": {
            "tags": []
          },
          "execution_count": 102
        }
      ]
    },
    {
      "cell_type": "code",
      "metadata": {
        "id": "eysKBc6KaAjL"
      },
      "source": [
        "cleanData = data[['valence', 'year', 'acousticness', 'danceability',\r\n",
        "       'duration_ms', 'energy', 'explicit', 'instrumentalness', 'key',\r\n",
        "       'liveness', 'loudness', 'mode',\r\n",
        "       'speechiness', 'tempo', 'popularity']]"
      ],
      "execution_count": 103,
      "outputs": []
    },
    {
      "cell_type": "code",
      "metadata": {
        "colab": {
          "base_uri": "https://localhost:8080/",
          "height": 317
        },
        "id": "oX_XhtudaMmu",
        "outputId": "20f070a7-2837-4294-bff2-ee6591361a4a"
      },
      "source": [
        "cleanData.describe()"
      ],
      "execution_count": 104,
      "outputs": [
        {
          "output_type": "execute_result",
          "data": {
            "text/html": [
              "<div>\n",
              "<style scoped>\n",
              "    .dataframe tbody tr th:only-of-type {\n",
              "        vertical-align: middle;\n",
              "    }\n",
              "\n",
              "    .dataframe tbody tr th {\n",
              "        vertical-align: top;\n",
              "    }\n",
              "\n",
              "    .dataframe thead th {\n",
              "        text-align: right;\n",
              "    }\n",
              "</style>\n",
              "<table border=\"1\" class=\"dataframe\">\n",
              "  <thead>\n",
              "    <tr style=\"text-align: right;\">\n",
              "      <th></th>\n",
              "      <th>valence</th>\n",
              "      <th>year</th>\n",
              "      <th>acousticness</th>\n",
              "      <th>danceability</th>\n",
              "      <th>duration_ms</th>\n",
              "      <th>energy</th>\n",
              "      <th>explicit</th>\n",
              "      <th>instrumentalness</th>\n",
              "      <th>key</th>\n",
              "      <th>liveness</th>\n",
              "      <th>loudness</th>\n",
              "      <th>mode</th>\n",
              "      <th>speechiness</th>\n",
              "      <th>tempo</th>\n",
              "      <th>popularity</th>\n",
              "    </tr>\n",
              "  </thead>\n",
              "  <tbody>\n",
              "    <tr>\n",
              "      <th>count</th>\n",
              "      <td>170653.000000</td>\n",
              "      <td>170653.000000</td>\n",
              "      <td>170653.000000</td>\n",
              "      <td>170653.000000</td>\n",
              "      <td>1.706530e+05</td>\n",
              "      <td>170653.000000</td>\n",
              "      <td>170653.000000</td>\n",
              "      <td>170653.000000</td>\n",
              "      <td>170653.000000</td>\n",
              "      <td>170653.000000</td>\n",
              "      <td>170653.000000</td>\n",
              "      <td>170653.000000</td>\n",
              "      <td>170653.000000</td>\n",
              "      <td>170653.000000</td>\n",
              "      <td>170653.000000</td>\n",
              "    </tr>\n",
              "    <tr>\n",
              "      <th>mean</th>\n",
              "      <td>0.528587</td>\n",
              "      <td>1976.787241</td>\n",
              "      <td>0.502115</td>\n",
              "      <td>0.537396</td>\n",
              "      <td>2.309483e+05</td>\n",
              "      <td>0.482389</td>\n",
              "      <td>0.084575</td>\n",
              "      <td>0.167010</td>\n",
              "      <td>5.199844</td>\n",
              "      <td>0.205839</td>\n",
              "      <td>-11.467990</td>\n",
              "      <td>0.706902</td>\n",
              "      <td>0.098393</td>\n",
              "      <td>116.861590</td>\n",
              "      <td>31.431794</td>\n",
              "    </tr>\n",
              "    <tr>\n",
              "      <th>std</th>\n",
              "      <td>0.263171</td>\n",
              "      <td>25.917853</td>\n",
              "      <td>0.376032</td>\n",
              "      <td>0.176138</td>\n",
              "      <td>1.261184e+05</td>\n",
              "      <td>0.267646</td>\n",
              "      <td>0.278249</td>\n",
              "      <td>0.313475</td>\n",
              "      <td>3.515094</td>\n",
              "      <td>0.174805</td>\n",
              "      <td>5.697943</td>\n",
              "      <td>0.455184</td>\n",
              "      <td>0.162740</td>\n",
              "      <td>30.708533</td>\n",
              "      <td>21.826615</td>\n",
              "    </tr>\n",
              "    <tr>\n",
              "      <th>min</th>\n",
              "      <td>0.000000</td>\n",
              "      <td>1921.000000</td>\n",
              "      <td>0.000000</td>\n",
              "      <td>0.000000</td>\n",
              "      <td>5.108000e+03</td>\n",
              "      <td>0.000000</td>\n",
              "      <td>0.000000</td>\n",
              "      <td>0.000000</td>\n",
              "      <td>0.000000</td>\n",
              "      <td>0.000000</td>\n",
              "      <td>-60.000000</td>\n",
              "      <td>0.000000</td>\n",
              "      <td>0.000000</td>\n",
              "      <td>0.000000</td>\n",
              "      <td>0.000000</td>\n",
              "    </tr>\n",
              "    <tr>\n",
              "      <th>25%</th>\n",
              "      <td>0.317000</td>\n",
              "      <td>1956.000000</td>\n",
              "      <td>0.102000</td>\n",
              "      <td>0.415000</td>\n",
              "      <td>1.698270e+05</td>\n",
              "      <td>0.255000</td>\n",
              "      <td>0.000000</td>\n",
              "      <td>0.000000</td>\n",
              "      <td>2.000000</td>\n",
              "      <td>0.098800</td>\n",
              "      <td>-14.615000</td>\n",
              "      <td>0.000000</td>\n",
              "      <td>0.034900</td>\n",
              "      <td>93.421000</td>\n",
              "      <td>11.000000</td>\n",
              "    </tr>\n",
              "    <tr>\n",
              "      <th>50%</th>\n",
              "      <td>0.540000</td>\n",
              "      <td>1977.000000</td>\n",
              "      <td>0.516000</td>\n",
              "      <td>0.548000</td>\n",
              "      <td>2.074670e+05</td>\n",
              "      <td>0.471000</td>\n",
              "      <td>0.000000</td>\n",
              "      <td>0.000216</td>\n",
              "      <td>5.000000</td>\n",
              "      <td>0.136000</td>\n",
              "      <td>-10.580000</td>\n",
              "      <td>1.000000</td>\n",
              "      <td>0.045000</td>\n",
              "      <td>114.729000</td>\n",
              "      <td>33.000000</td>\n",
              "    </tr>\n",
              "    <tr>\n",
              "      <th>75%</th>\n",
              "      <td>0.747000</td>\n",
              "      <td>1999.000000</td>\n",
              "      <td>0.893000</td>\n",
              "      <td>0.668000</td>\n",
              "      <td>2.624000e+05</td>\n",
              "      <td>0.703000</td>\n",
              "      <td>0.000000</td>\n",
              "      <td>0.102000</td>\n",
              "      <td>8.000000</td>\n",
              "      <td>0.261000</td>\n",
              "      <td>-7.183000</td>\n",
              "      <td>1.000000</td>\n",
              "      <td>0.075600</td>\n",
              "      <td>135.537000</td>\n",
              "      <td>48.000000</td>\n",
              "    </tr>\n",
              "    <tr>\n",
              "      <th>max</th>\n",
              "      <td>1.000000</td>\n",
              "      <td>2020.000000</td>\n",
              "      <td>0.996000</td>\n",
              "      <td>0.988000</td>\n",
              "      <td>5.403500e+06</td>\n",
              "      <td>1.000000</td>\n",
              "      <td>1.000000</td>\n",
              "      <td>1.000000</td>\n",
              "      <td>11.000000</td>\n",
              "      <td>1.000000</td>\n",
              "      <td>3.855000</td>\n",
              "      <td>1.000000</td>\n",
              "      <td>0.970000</td>\n",
              "      <td>243.507000</td>\n",
              "      <td>100.000000</td>\n",
              "    </tr>\n",
              "  </tbody>\n",
              "</table>\n",
              "</div>"
            ],
            "text/plain": [
              "             valence           year  ...          tempo     popularity\n",
              "count  170653.000000  170653.000000  ...  170653.000000  170653.000000\n",
              "mean        0.528587    1976.787241  ...     116.861590      31.431794\n",
              "std         0.263171      25.917853  ...      30.708533      21.826615\n",
              "min         0.000000    1921.000000  ...       0.000000       0.000000\n",
              "25%         0.317000    1956.000000  ...      93.421000      11.000000\n",
              "50%         0.540000    1977.000000  ...     114.729000      33.000000\n",
              "75%         0.747000    1999.000000  ...     135.537000      48.000000\n",
              "max         1.000000    2020.000000  ...     243.507000     100.000000\n",
              "\n",
              "[8 rows x 15 columns]"
            ]
          },
          "metadata": {
            "tags": []
          },
          "execution_count": 104
        }
      ]
    },
    {
      "cell_type": "code",
      "metadata": {
        "id": "pwzCJrIHXyNh",
        "colab": {
          "base_uri": "https://localhost:8080/",
          "height": 204
        },
        "outputId": "a1a713ce-d83e-441f-aec7-88ec94a17e14"
      },
      "source": [
        "cleanData.head()"
      ],
      "execution_count": 105,
      "outputs": [
        {
          "output_type": "execute_result",
          "data": {
            "text/html": [
              "<div>\n",
              "<style scoped>\n",
              "    .dataframe tbody tr th:only-of-type {\n",
              "        vertical-align: middle;\n",
              "    }\n",
              "\n",
              "    .dataframe tbody tr th {\n",
              "        vertical-align: top;\n",
              "    }\n",
              "\n",
              "    .dataframe thead th {\n",
              "        text-align: right;\n",
              "    }\n",
              "</style>\n",
              "<table border=\"1\" class=\"dataframe\">\n",
              "  <thead>\n",
              "    <tr style=\"text-align: right;\">\n",
              "      <th></th>\n",
              "      <th>valence</th>\n",
              "      <th>year</th>\n",
              "      <th>acousticness</th>\n",
              "      <th>danceability</th>\n",
              "      <th>duration_ms</th>\n",
              "      <th>energy</th>\n",
              "      <th>explicit</th>\n",
              "      <th>instrumentalness</th>\n",
              "      <th>key</th>\n",
              "      <th>liveness</th>\n",
              "      <th>loudness</th>\n",
              "      <th>mode</th>\n",
              "      <th>speechiness</th>\n",
              "      <th>tempo</th>\n",
              "      <th>popularity</th>\n",
              "    </tr>\n",
              "  </thead>\n",
              "  <tbody>\n",
              "    <tr>\n",
              "      <th>0</th>\n",
              "      <td>0.0594</td>\n",
              "      <td>1921</td>\n",
              "      <td>0.982</td>\n",
              "      <td>0.279</td>\n",
              "      <td>831667</td>\n",
              "      <td>0.211</td>\n",
              "      <td>0</td>\n",
              "      <td>0.878000</td>\n",
              "      <td>10</td>\n",
              "      <td>0.665</td>\n",
              "      <td>-20.096</td>\n",
              "      <td>1</td>\n",
              "      <td>0.0366</td>\n",
              "      <td>80.954</td>\n",
              "      <td>4</td>\n",
              "    </tr>\n",
              "    <tr>\n",
              "      <th>1</th>\n",
              "      <td>0.9630</td>\n",
              "      <td>1921</td>\n",
              "      <td>0.732</td>\n",
              "      <td>0.819</td>\n",
              "      <td>180533</td>\n",
              "      <td>0.341</td>\n",
              "      <td>0</td>\n",
              "      <td>0.000000</td>\n",
              "      <td>7</td>\n",
              "      <td>0.160</td>\n",
              "      <td>-12.441</td>\n",
              "      <td>1</td>\n",
              "      <td>0.4150</td>\n",
              "      <td>60.936</td>\n",
              "      <td>5</td>\n",
              "    </tr>\n",
              "    <tr>\n",
              "      <th>2</th>\n",
              "      <td>0.0394</td>\n",
              "      <td>1921</td>\n",
              "      <td>0.961</td>\n",
              "      <td>0.328</td>\n",
              "      <td>500062</td>\n",
              "      <td>0.166</td>\n",
              "      <td>0</td>\n",
              "      <td>0.913000</td>\n",
              "      <td>3</td>\n",
              "      <td>0.101</td>\n",
              "      <td>-14.850</td>\n",
              "      <td>1</td>\n",
              "      <td>0.0339</td>\n",
              "      <td>110.339</td>\n",
              "      <td>5</td>\n",
              "    </tr>\n",
              "    <tr>\n",
              "      <th>3</th>\n",
              "      <td>0.1650</td>\n",
              "      <td>1921</td>\n",
              "      <td>0.967</td>\n",
              "      <td>0.275</td>\n",
              "      <td>210000</td>\n",
              "      <td>0.309</td>\n",
              "      <td>0</td>\n",
              "      <td>0.000028</td>\n",
              "      <td>5</td>\n",
              "      <td>0.381</td>\n",
              "      <td>-9.316</td>\n",
              "      <td>1</td>\n",
              "      <td>0.0354</td>\n",
              "      <td>100.109</td>\n",
              "      <td>3</td>\n",
              "    </tr>\n",
              "    <tr>\n",
              "      <th>4</th>\n",
              "      <td>0.2530</td>\n",
              "      <td>1921</td>\n",
              "      <td>0.957</td>\n",
              "      <td>0.418</td>\n",
              "      <td>166693</td>\n",
              "      <td>0.193</td>\n",
              "      <td>0</td>\n",
              "      <td>0.000002</td>\n",
              "      <td>3</td>\n",
              "      <td>0.229</td>\n",
              "      <td>-10.096</td>\n",
              "      <td>1</td>\n",
              "      <td>0.0380</td>\n",
              "      <td>101.665</td>\n",
              "      <td>2</td>\n",
              "    </tr>\n",
              "  </tbody>\n",
              "</table>\n",
              "</div>"
            ],
            "text/plain": [
              "   valence  year  acousticness  ...  speechiness    tempo  popularity\n",
              "0   0.0594  1921         0.982  ...       0.0366   80.954           4\n",
              "1   0.9630  1921         0.732  ...       0.4150   60.936           5\n",
              "2   0.0394  1921         0.961  ...       0.0339  110.339           5\n",
              "3   0.1650  1921         0.967  ...       0.0354  100.109           3\n",
              "4   0.2530  1921         0.957  ...       0.0380  101.665           2\n",
              "\n",
              "[5 rows x 15 columns]"
            ]
          },
          "metadata": {
            "tags": []
          },
          "execution_count": 105
        }
      ]
    },
    {
      "cell_type": "code",
      "metadata": {
        "id": "jyfIZOswZ2To"
      },
      "source": [
        "X = cleanData.iloc[:, 0:14].values\r\n",
        "y = cleanData.iloc[:, 14].values"
      ],
      "execution_count": 106,
      "outputs": []
    },
    {
      "cell_type": "code",
      "metadata": {
        "id": "Faj70AqWxnVM"
      },
      "source": [
        "scaler = MinMaxScaler().fit(X)\n",
        "X = scaler.transform(X)"
      ],
      "execution_count": 110,
      "outputs": []
    },
    {
      "cell_type": "code",
      "metadata": {
        "id": "tjhnojZsw6zS"
      },
      "source": [
        "nn = Sequential()\n",
        "\n",
        "# Hidden layer\n",
        "nn.add(Dense(units=64, input_dim=14, activation=\"relu\"))\n",
        "\n",
        "# Second hidden layer\n",
        "nn.add(Dense(units=32, activation=\"relu\"))\n",
        "\n",
        "# third hidden layer\n",
        "nn.add(Dense(units=16, activation=\"relu\"))\n",
        "\n",
        "# fouth hidden layer\n",
        "nn.add(Dense(units=8, activation=\"relu\"))\n",
        "\n",
        "# Output layer\n",
        "nn.add(Dense(units=1, activation=\"linear\"))\n"
      ],
      "execution_count": 111,
      "outputs": []
    },
    {
      "cell_type": "code",
      "metadata": {
        "id": "6FYIWflj1TTt"
      },
      "source": [
        "# Compile the model\r\n",
        "nn.compile(loss=\"mean_squared_error\", optimizer=\"adam\", metrics=[\"mse\"])"
      ],
      "execution_count": 112,
      "outputs": []
    },
    {
      "cell_type": "code",
      "metadata": {
        "colab": {
          "base_uri": "https://localhost:8080/"
        },
        "id": "hglNKi_hYNqP",
        "outputId": "7ace0066-913b-4043-f437-3ef438326aab"
      },
      "source": [
        "# Fit the model\r\n",
        "model_1 = nn.fit(X, y, validation_split=0.3, epochs=10)"
      ],
      "execution_count": 113,
      "outputs": [
        {
          "output_type": "stream",
          "text": [
            "Epoch 1/10\n",
            "3734/3734 [==============================] - 7s 2ms/step - loss: 288.6469 - mse: 288.6469 - val_loss: 205.2568 - val_mse: 205.2568\n",
            "Epoch 2/10\n",
            "3734/3734 [==============================] - 7s 2ms/step - loss: 90.9811 - mse: 90.9811 - val_loss: 169.8407 - val_mse: 169.8407\n",
            "Epoch 3/10\n",
            "3734/3734 [==============================] - 7s 2ms/step - loss: 88.8275 - mse: 88.8275 - val_loss: 139.3026 - val_mse: 139.3026\n",
            "Epoch 4/10\n",
            "3734/3734 [==============================] - 7s 2ms/step - loss: 89.0044 - mse: 89.0044 - val_loss: 157.8167 - val_mse: 157.8167\n",
            "Epoch 5/10\n",
            "3734/3734 [==============================] - 7s 2ms/step - loss: 88.2394 - mse: 88.2394 - val_loss: 182.3510 - val_mse: 182.3510\n",
            "Epoch 6/10\n",
            "3734/3734 [==============================] - 7s 2ms/step - loss: 87.8823 - mse: 87.8823 - val_loss: 168.7075 - val_mse: 168.7075\n",
            "Epoch 7/10\n",
            "3734/3734 [==============================] - 7s 2ms/step - loss: 87.2835 - mse: 87.2835 - val_loss: 142.9505 - val_mse: 142.9505\n",
            "Epoch 8/10\n",
            "3734/3734 [==============================] - 7s 2ms/step - loss: 87.7731 - mse: 87.7731 - val_loss: 144.8410 - val_mse: 144.8410\n",
            "Epoch 9/10\n",
            "3734/3734 [==============================] - 7s 2ms/step - loss: 86.7472 - mse: 86.7472 - val_loss: 173.0251 - val_mse: 173.0251\n",
            "Epoch 10/10\n",
            "3734/3734 [==============================] - 7s 2ms/step - loss: 85.7031 - mse: 85.7031 - val_loss: 184.4811 - val_mse: 184.4811\n"
          ],
          "name": "stdout"
        }
      ]
    },
    {
      "cell_type": "code",
      "metadata": {
        "colab": {
          "base_uri": "https://localhost:8080/",
          "height": 281
        },
        "id": "bWIVR95PfV37",
        "outputId": "9b4ab69d-044e-4489-df18-f05236fef730"
      },
      "source": [
        "# Plot the loss function of the training results for the two models\r\n",
        "plt.plot(model_1.history[\"loss\"])\r\n",
        "plt.title(\"loss_function - Training - 1 hidden layer \")\r\n",
        "plt.legend([\"1 hidden layer\"])\r\n",
        "plt.show()"
      ],
      "execution_count": 114,
      "outputs": [
        {
          "output_type": "display_data",
          "data": {
            "image/png": "[encoded data removed]",
            "text/plain": [
              "<Figure size 432x288 with 1 Axes>"
            ]
          },
          "metadata": {
            "tags": [],
            "needs_background": "light"
          }
        }
      ]
    },
    {
      "cell_type": "code",
      "metadata": {
        "colab": {
          "base_uri": "https://localhost:8080/",
          "height": 281
        },
        "id": "1fMRYMLLgJ19",
        "outputId": "13b3f3fe-ea31-4827-8f04-97a34a49eb82"
      },
      "source": [
        "# Plot train vs test for shallow net\r\n",
        "plt.plot(model_1.history[\"loss\"])\r\n",
        "plt.plot(model_1.history[\"val_loss\"])\r\n",
        "plt.title(\"loss_function - 1 hidden layer - Train Vs. Test\")\r\n",
        "plt.legend([\"train\", \"test\"])\r\n",
        "plt.show()"
      ],
      "execution_count": 115,
      "outputs": [
        {
          "output_type": "display_data",
          "data": {
            "image/png": "[encoded data removed]",
            "text/plain": [
              "<Figure size 432x288 with 1 Axes>"
            ]
          },
          "metadata": {
            "tags": [],
            "needs_background": "light"
          }
        }
      ]
    },
    {
      "cell_type": "code",
      "metadata": {
        "id": "Pfu0kAJRjMtL"
      },
      "source": [
        "df = pd.DataFrame(y,columns=['actual'])"
      ],
      "execution_count": 116,
      "outputs": []
    },
    {
      "cell_type": "code",
      "metadata": {
        "id": "rsQKLB-Io0JY"
      },
      "source": [
        "df['predicted'] = nn.predict(X)"
      ],
      "execution_count": 117,
      "outputs": []
    },
    {
      "cell_type": "code",
      "metadata": {
        "colab": {
          "base_uri": "https://localhost:8080/",
          "height": 204
        },
        "id": "qsNzveyKpOvk",
        "outputId": "1a958b6a-d122-4bf7-ab0a-097ffb78bf65"
      },
      "source": [
        "df.tail()"
      ],
      "execution_count": 119,
      "outputs": [
        {
          "output_type": "execute_result",
          "data": {
            "text/html": [
              "<div>\n",
              "<style scoped>\n",
              "    .dataframe tbody tr th:only-of-type {\n",
              "        vertical-align: middle;\n",
              "    }\n",
              "\n",
              "    .dataframe tbody tr th {\n",
              "        vertical-align: top;\n",
              "    }\n",
              "\n",
              "    .dataframe thead th {\n",
              "        text-align: right;\n",
              "    }\n",
              "</style>\n",
              "<table border=\"1\" class=\"dataframe\">\n",
              "  <thead>\n",
              "    <tr style=\"text-align: right;\">\n",
              "      <th></th>\n",
              "      <th>actual</th>\n",
              "      <th>predicted</th>\n",
              "    </tr>\n",
              "  </thead>\n",
              "  <tbody>\n",
              "    <tr>\n",
              "      <th>170648</th>\n",
              "      <td>72</td>\n",
              "      <td>65.527611</td>\n",
              "    </tr>\n",
              "    <tr>\n",
              "      <th>170649</th>\n",
              "      <td>68</td>\n",
              "      <td>64.757240</td>\n",
              "    </tr>\n",
              "    <tr>\n",
              "      <th>170650</th>\n",
              "      <td>76</td>\n",
              "      <td>66.097221</td>\n",
              "    </tr>\n",
              "    <tr>\n",
              "      <th>170651</th>\n",
              "      <td>70</td>\n",
              "      <td>66.832054</td>\n",
              "    </tr>\n",
              "    <tr>\n",
              "      <th>170652</th>\n",
              "      <td>74</td>\n",
              "      <td>68.632454</td>\n",
              "    </tr>\n",
              "  </tbody>\n",
              "</table>\n",
              "</div>"
            ],
            "text/plain": [
              "        actual  predicted\n",
              "170648      72  65.527611\n",
              "170649      68  64.757240\n",
              "170650      76  66.097221\n",
              "170651      70  66.832054\n",
              "170652      74  68.632454"
            ]
          },
          "metadata": {
            "tags": []
          },
          "execution_count": 119
        }
      ]
    },
    {
      "cell_type": "code",
      "metadata": {
        "id": "U5ogDwCyWBXM",
        "colab": {
          "base_uri": "https://localhost:8080/"
        },
        "outputId": "d8026db8-4d11-44fe-aa48-377f00f402eb"
      },
      "source": [
        "from scipy.stats import ttest_ind\r\n",
        "\r\n",
        "ttest_ind(df['actual'], df['predicted'])\r\n"
      ],
      "execution_count": 120,
      "outputs": [
        {
          "output_type": "execute_result",
          "data": {
            "text/plain": [
              "Ttest_indResult(statistic=-45.15407688377408, pvalue=0.0)"
            ]
          },
          "metadata": {
            "tags": []
          },
          "execution_count": 120
        }
      ]
    },
    {
      "cell_type": "code",
      "metadata": {
        "id": "GO9khSw2kb27"
      },
      "source": [
        "nn_json = nn.to_json()"
      ],
      "execution_count": 121,
      "outputs": []
    },
    {
      "cell_type": "code",
      "metadata": {
        "id": "zqHtB6wQlMQe"
      },
      "source": [
        "filepath = 'model.json'\r\n",
        "with open(filepath, 'w') as json_file:\r\n",
        "  json_file.write(nn_json)"
      ],
      "execution_count": 122,
      "outputs": []
    },
    {
      "cell_type": "code",
      "metadata": {
        "id": "ycafZyu2lPb6"
      },
      "source": [
        "filepath = 'model.h5'\r\n",
        "nn.save_weights(filepath)"
      ],
      "execution_count": 123,
      "outputs": []
    },
    {
      "cell_type": "code",
      "metadata": {
        "id": "dOvSJoOWlRR1"
      },
      "source": [
        "from tensorflow.keras.models import model_from_json"
      ],
      "execution_count": 37,
      "outputs": []
    },
    {
      "cell_type": "code",
      "metadata": {
        "id": "PZcUUKI9lUFG"
      },
      "source": [
        "filepath = 'model.json'\r\n",
        "with open(filepath, 'r') as json_file:\r\n",
        "  model_json = json_file.read()\r\n",
        "\r\n",
        "loaded_model = model_from_json(model_json)"
      ],
      "execution_count": 124,
      "outputs": []
    },
    {
      "cell_type": "code",
      "metadata": {
        "id": "K1YZfgf6jega"
      },
      "source": [
        "filepath = 'model.h5'\r\n",
        "loaded_model.load_weights(filepath)"
      ],
      "execution_count": 125,
      "outputs": []
    },
    {
      "cell_type": "code",
      "metadata": {
        "colab": {
          "base_uri": "https://localhost:8080/"
        },
        "id": "JVpZC0qbsE47",
        "outputId": "a5c32949-cf78-4e15-b0e3-fad35570cdad"
      },
      "source": [
        "X[[7]]"
      ],
      "execution_count": 151,
      "outputs": [
        {
          "output_type": "execute_result",
          "data": {
            "text/plain": [
              "array([[0.0731    , 0.        , 0.99698795, 0.3937247 , 0.03957938,\n",
              "        0.088     , 0.        , 0.527     , 0.09090909, 0.363     ,\n",
              "        0.60933365, 0.        , 0.04701031, 0.38137302]])"
            ]
          },
          "metadata": {
            "tags": []
          },
          "execution_count": 151
        }
      ]
    },
    {
      "cell_type": "code",
      "metadata": {
        "colab": {
          "base_uri": "https://localhost:8080/"
        },
        "id": "7_Iyz1OVtVvT",
        "outputId": "ffd05d69-6f99-40f8-89f6-8f3b45f7e66a"
      },
      "source": [
        "y[7]"
      ],
      "execution_count": 150,
      "outputs": [
        {
          "output_type": "execute_result",
          "data": {
            "text/plain": [
              "2"
            ]
          },
          "metadata": {
            "tags": []
          },
          "execution_count": 150
        }
      ]
    },
    {
      "cell_type": "code",
      "metadata": {
        "colab": {
          "base_uri": "https://localhost:8080/"
        },
        "id": "-LG6RDHwjfEw",
        "outputId": "0a92d708-674c-4e13-f380-6a685bec53c9"
      },
      "source": [
        "loaded_model.predict(X[[7]])\r\n"
      ],
      "execution_count": 152,
      "outputs": [
        {
          "output_type": "execute_result",
          "data": {
            "text/plain": [
              "array([[1.0972371]], dtype=float32)"
            ]
          },
          "metadata": {
            "tags": []
          },
          "execution_count": 152
        }
      ]
    },
    {
      "cell_type": "code",
      "metadata": {
        "id": "5lRq4ZEtuBjz"
      },
      "source": [
        "input = [[0.0731    , 0.        , 0.99698795, 0.3937247 , 0.03957938,\r\n",
        "        0.088     , 0.        , 0.527     , 0.09090909, 0.363     ,\r\n",
        "        0.60933365, 0.        , 0.04701031, 0.38137302]]"
      ],
      "execution_count": 153,
      "outputs": []
    },
    {
      "cell_type": "code",
      "metadata": {
        "colab": {
          "base_uri": "https://localhost:8080/"
        },
        "id": "_kdCgfSWuO6s",
        "outputId": "7297245b-6823-4f0c-fa2f-a707999fcb05"
      },
      "source": [
        "loaded_model.predict(input)"
      ],
      "execution_count": 154,
      "outputs": [
        {
          "output_type": "execute_result",
          "data": {
            "text/plain": [
              "array([[1.0972371]], dtype=float32)"
            ]
          },
          "metadata": {
            "tags": []
          },
          "execution_count": 154
        }
      ]
    },
    {
      "cell_type": "code",
      "metadata": {
        "id": "PavXV6AzuW7k"
      },
      "source": [
        ""
      ],
      "execution_count": null,
      "outputs": []
    }
  ]
}